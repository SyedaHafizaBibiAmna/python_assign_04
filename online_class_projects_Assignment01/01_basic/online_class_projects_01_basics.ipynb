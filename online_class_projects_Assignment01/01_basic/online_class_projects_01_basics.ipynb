{
  "nbformat": 4,
  "nbformat_minor": 0,
  "metadata": {
    "colab": {
      "provenance": []
    },
    "kernelspec": {
      "name": "python3",
      "display_name": "Python 3"
    },
    "language_info": {
      "name": "python"
    }
  },
  "cells": [
    {
      "cell_type": "code",
      "source": [
        "print(\"00_joke_bot\")\n",
        "\n",
        "PROMPT = \"What do you want? \"\n",
        "JOKE = \"Here is a joke for you! Panaversity GPT - Sophia is heading out to the grocery store. A programmer tells her: get a liter of milk, and if they have eggs, get 12. Sophia returns with 13 liters of milk. The programmer asks why and Sophia replies: 'because they had eggs'\"\n",
        "SORRY = \"Sorry I only tell jokes\"\n",
        "\n",
        "def main():\n",
        "    user_input = input(PROMPT)\n",
        "\n",
        "    if user_input.strip().lower() == \"joke\":\n",
        "        print(JOKE)\n",
        "    else:\n",
        "        print(SORRY)\n",
        "\n",
        "if __name__ == \"__main__\":\n",
        "    main()\n"
      ],
      "metadata": {
        "colab": {
          "base_uri": "https://localhost:8080/"
        },
        "id": "zF0T51DrvRS7",
        "outputId": "81f60ef0-bef8-43b3-990c-3844467b65eb"
      },
      "execution_count": null,
      "outputs": [
        {
          "output_type": "stream",
          "name": "stdout",
          "text": [
            "00_joke_bot\n",
            "What do you want? joke\n",
            "Here is a joke for you! Panaversity GPT - Sophia is heading out to the grocery store. A programmer tells her: get a liter of milk, and if they have eggs, get 12. Sophia returns with 13 liters of milk. The programmer asks why and Sophia replies: 'because they had eggs'\n"
          ]
        }
      ]
    },
    {
      "cell_type": "code",
      "source": [
        "\"print(\"01_double_it.\")\n",
        "\n",
        "def main():\n",
        "  user_value = int(input(\"Please enter a number: \"))\n",
        "  while user_value<100:\n",
        "    user_value = user_value * 2\n",
        "    print(user_value)\n",
        "\n",
        "if __name__ == \"__main__\":\n",
        "  main()\n"
      ],
      "metadata": {
        "colab": {
          "base_uri": "https://localhost:8080/"
        },
        "id": "_JmaMmRroOkJ",
        "outputId": "dae4375e-acd1-4344-a88a-7929663b5ff9"
      },
      "execution_count": null,
      "outputs": [
        {
          "output_type": "stream",
          "name": "stdout",
          "text": [
            "05_double_it.\n",
            "Please enter a number: 22\n",
            "44\n",
            "88\n",
            "176\n"
          ]
        }
      ]
    },
    {
      "cell_type": "code",
      "execution_count": null,
      "metadata": {
        "colab": {
          "base_uri": "https://localhost:8080/"
        },
        "id": "zaASbzmuVo0d",
        "outputId": "86358043-6748-4ab6-89fc-f4f8a3cacea0"
      },
      "outputs": [
        {
          "output_type": "stream",
          "name": "stdout",
          "text": [
            "04_liftoff\n",
            "10 9 8 7 6 5 4 3 2 1 liftof\n"
          ]
        }
      ],
      "source": [
        "print(\"02_liftoff\")\n",
        "\n",
        "def main():\n",
        "  for i in range(10,0,-1):\n",
        "    print(i,end =\" \")\n",
        "  print(\"liftof\")\n",
        "\n",
        "if __name__ == \"__main__\":\n",
        "  main()"
      ]
    },
    {
      "cell_type": "code",
      "source": [
        "import random\n",
        "\n",
        "print(\"03_guess_my_number\")\n",
        "\n",
        "def main():\n",
        "  secret_number = random.randint(1, 100)\n",
        "  print(\"I am thinking of a Digit between 1 to 100....\")\n",
        "\n",
        "  guess = int(input(\"Enter a guess: \"))\n",
        "\n",
        "  while guess != secret_number:\n",
        "    if guess > secret_number:\n",
        "      print(\"Too High!\")\n",
        "    else:\n",
        "      print(\"Too Low!\")\n",
        "    guess = int(input(\"Enter a guess: \"))\n",
        "\n",
        "  print(f\"Congratulations! You guess the right {secret_number}....\")\n",
        "\n",
        "if __name__ ==\"__main__\":\n",
        "  main()"
      ],
      "metadata": {
        "colab": {
          "base_uri": "https://localhost:8080/"
        },
        "id": "h1inZdGUoLKV",
        "outputId": "93fb7812-9140-4f7c-d36c-5b395f44aff1"
      },
      "execution_count": null,
      "outputs": [
        {
          "output_type": "stream",
          "name": "stdout",
          "text": [
            "00_guess_my_number\n",
            "I am thinking of a Digit between 1 to 100....\n",
            "Enter a guess: 33\n",
            "Too High!\n",
            "Enter a guess: 11\n",
            "Too Low!\n",
            "Enter a guess: 22\n",
            "Congratulations! You guess the right 22....\n"
          ]
        }
      ]
    },
    {
      "cell_type": "code",
      "source": [
        "import random\n",
        "print(\"04_random_numbers\")\n",
        "\n",
        "\n",
        "def main():\n",
        "  for i in range(10):\n",
        "   num:list[int]= random.randint(1,100)\n",
        "   print(num)\n",
        "\n",
        "if __name__ == \"__main__\":\n",
        "  main()"
      ],
      "metadata": {
        "colab": {
          "base_uri": "https://localhost:8080/"
        },
        "id": "riddFucruRpM",
        "outputId": "32b48b6b-819f-4b64-87d0-91e3665a7f7e"
      },
      "execution_count": null,
      "outputs": [
        {
          "output_type": "stream",
          "name": "stdout",
          "text": [
            "04_random_numbers\n",
            "55\n",
            "91\n",
            "59\n",
            "59\n",
            "88\n",
            "4\n",
            "14\n",
            "47\n",
            "62\n",
            "23\n"
          ]
        }
      ]
    }
  ]
}