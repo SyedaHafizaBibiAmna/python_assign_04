{
  "nbformat": 4,
  "nbformat_minor": 0,
  "metadata": {
    "colab": {
      "provenance": [],
      "authorship_tag": "ABX9TyPtvJ9oXRJLpU7s9mCwQzSe",
      "include_colab_link": true
    },
    "kernelspec": {
      "name": "python3",
      "display_name": "Python 3"
    },
    "language_info": {
      "name": "python"
    }
  },
  "cells": [
    {
      "cell_type": "markdown",
      "metadata": {
        "id": "view-in-github",
        "colab_type": "text"
      },
      "source": [
        "<a href=\"https://colab.research.google.com/github/SyedaHafizaBibiAmna/python_assign_04/blob/main/03_if_statements.ipynb\" target=\"_parent\"><img src=\"https://colab.research.google.com/assets/colab-badge.svg\" alt=\"Open In Colab\"/></a>"
      ]
    },
    {
      "cell_type": "code",
      "execution_count": 2,
      "metadata": {
        "colab": {
          "base_uri": "https://localhost:8080/"
        },
        "id": "nT2IW3HBnMZm",
        "outputId": "4861a5b2-5f11-4189-d92e-5b6a06886fb3"
      },
      "outputs": [
        {
          "output_type": "stream",
          "name": "stdout",
          "text": [
            "03_if_statements\n",
            "Here is your 20 even numbers:  0\n",
            "Here is your 20 even numbers:  2\n",
            "Here is your 20 even numbers:  4\n",
            "Here is your 20 even numbers:  6\n",
            "Here is your 20 even numbers:  8\n",
            "Here is your 20 even numbers:  10\n",
            "Here is your 20 even numbers:  12\n",
            "Here is your 20 even numbers:  14\n",
            "Here is your 20 even numbers:  16\n",
            "Here is your 20 even numbers:  18\n",
            "Here is your 20 even numbers:  20\n",
            "Here is your 20 even numbers:  22\n",
            "Here is your 20 even numbers:  24\n",
            "Here is your 20 even numbers:  26\n",
            "Here is your 20 even numbers:  28\n",
            "Here is your 20 even numbers:  30\n",
            "Here is your 20 even numbers:  32\n",
            "Here is your 20 even numbers:  34\n",
            "Here is your 20 even numbers:  36\n",
            "Here is your 20 even numbers:  38\n",
            "Here is your 20 even numbers:  40\n",
            "Here is your 20 even numbers:  42\n",
            "Here is your 20 even numbers:  44\n",
            "Here is your 20 even numbers:  46\n",
            "Here is your 20 even numbers:  48\n",
            "Here is your 20 even numbers:  50\n",
            "Here is your 20 even numbers:  52\n",
            "Here is your 20 even numbers:  54\n",
            "Here is your 20 even numbers:  56\n",
            "Here is your 20 even numbers:  58\n",
            "Here is your 20 even numbers:  60\n",
            "Here is your 20 even numbers:  62\n",
            "Here is your 20 even numbers:  64\n",
            "Here is your 20 even numbers:  66\n",
            "Here is your 20 even numbers:  68\n",
            "Here is your 20 even numbers:  70\n",
            "Here is your 20 even numbers:  72\n",
            "Here is your 20 even numbers:  74\n",
            "Here is your 20 even numbers:  76\n",
            "Here is your 20 even numbers:  78\n"
          ]
        }
      ],
      "source": [
        "print(\"03_if_statements\")\n",
        "\n",
        "def even():\n",
        "  for i in range(40):\n",
        "    print(\"Here is your 20 even numbers: \", i * 2)\n",
        "\n",
        "\n",
        "if __name__ == \"__main__\":\n",
        "  even()\n"
      ]
    },
    {
      "cell_type": "code",
      "source": [
        "print(\"02_international_voting_age\")\n",
        "\n",
        "Peturksbouipo:int = 16\n",
        "Stanlau:int = 25\n",
        "Mayengua:int = 48\n",
        "\n",
        "def main():\n",
        "  age:int = int(input(\"what is your age? \"))\n",
        "  if age>= Peturksbouipo:\n",
        "    print(f\"Your age is {age}. you are Eligible to vote in Peturksbouipo. \")\n",
        "  else:\n",
        "    print(f\"Your age is {age}, so you cannot are not vote in Peturksbouipo. \")\n",
        "\n",
        "\n",
        "  if age >= Stanlau:\n",
        "    print(f\"Your age is {age}. You are Eligible to vote in Stanlau. \")\n",
        "  else:\n",
        "    print(f\"Your age is {age}, so you cannot are not vote in Stanlau. \")\n",
        "\n",
        "\n",
        "\n",
        "  if age >= Mayengua:\n",
        "    print(f\"Your age is {age}. You are Eligible to vote in Mayengua. \")\n",
        "  else:\n",
        "    print(f\"Your age is {age}, so you cannot are not vote in Mayengua. \")\n",
        "\n",
        "if __name__ == \"__main__\":\n",
        "  main()\n",
        "\n",
        "\n",
        "\n"
      ],
      "metadata": {
        "colab": {
          "base_uri": "https://localhost:8080/"
        },
        "id": "AeDWcWCKpZJK",
        "outputId": "a20e17aa-11ea-4b3f-ec44-fcd206decedd"
      },
      "execution_count": 4,
      "outputs": [
        {
          "output_type": "stream",
          "name": "stdout",
          "text": [
            "02_international_voting_age\n",
            "what is your age? 25\n",
            "Your age is 25. you are Eligible to vote in Peturksbouipo. \n",
            "Your age is 25. You are Eligible to vote in Stanlau. \n",
            "Your age is 25, so you cannot are not vote in Mayengua. \n"
          ]
        }
      ]
    },
    {
      "cell_type": "code",
      "source": [
        "print(\"03_leap_year\")\n",
        "\n",
        "def leap_year():\n",
        "  year:int= int(input(\"Enter a year: \"))\n",
        "  if year % 4 == 0:\n",
        "    if year % 100 == 0:\n",
        "      if year % 400 == 0:\n",
        "        print(f\"{year} is a leap year\")\n",
        "      else:\n",
        "        print(f\"{year} is not a leap year\")\n",
        "    else:\n",
        "        print(f\"{year} is not a leap year\")\n",
        "  else:\n",
        "        print(f\"{year} is not a leap year\")\n",
        "\n",
        "if __name__ == \"__main__\":\n",
        "  leap_year()"
      ],
      "metadata": {
        "colab": {
          "base_uri": "https://localhost:8080/"
        },
        "id": "T2CckBf-29KB",
        "outputId": "9253d68e-446f-40e2-bdac-73927cee8d96"
      },
      "execution_count": 5,
      "outputs": [
        {
          "output_type": "stream",
          "name": "stdout",
          "text": [
            "03_leap_year\n",
            "Enter a year: 2025\n",
            "2025 is not a leap year\n"
          ]
        }
      ]
    },
    {
      "cell_type": "code",
      "source": [
        "print(\"04_tall_enough_to_ride\")\n",
        "\n",
        "min_height:int = 50\n",
        "\n",
        "\n",
        "\n",
        "def user_heght():\n",
        "  user:int=int(input(\"How tall are you?\"))\n",
        "  if user >= min_height:\n",
        "    print(\"You are tall enough to ride\")\n",
        "  else:\n",
        "    print(\"You are not tall enough to ride\")\n",
        "\n",
        "if __name__ == \"__main__\":\n",
        "  user_heght()\n"
      ],
      "metadata": {
        "colab": {
          "base_uri": "https://localhost:8080/"
        },
        "id": "GSa9Q8TO6Xnk",
        "outputId": "4183729e-d634-4932-e739-7677f859e8fc"
      },
      "execution_count": 8,
      "outputs": [
        {
          "output_type": "stream",
          "name": "stdout",
          "text": [
            "04_tall_enough_to_ride\n",
            "How tall are you?45\n",
            "You are not tall enough to ride\n"
          ]
        }
      ]
    },
    {
      "cell_type": "code",
      "source": [
        "import random\n",
        "\n",
        "\n",
        "\n",
        "def main():\n",
        "  for i in range(10):\n",
        "   num:list[int]= random.randint(1,100)\n",
        "   print(num)\n",
        "\n",
        "if __name__ == \"__main__\":\n",
        "  main()\n"
      ],
      "metadata": {
        "colab": {
          "base_uri": "https://localhost:8080/"
        },
        "id": "gD_IYXXc8_S8",
        "outputId": "e13b8629-88b7-4673-a1bd-e83db19d031e"
      },
      "execution_count": 10,
      "outputs": [
        {
          "output_type": "stream",
          "name": "stdout",
          "text": [
            "6\n",
            "44\n",
            "94\n",
            "89\n",
            "97\n",
            "60\n",
            "8\n",
            "29\n",
            "30\n",
            "6\n"
          ]
        }
      ]
    }
  ]
}