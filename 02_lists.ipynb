{
  "nbformat": 4,
  "nbformat_minor": 0,
  "metadata": {
    "colab": {
      "provenance": [],
      "authorship_tag": "ABX9TyOxgM58mSbYtBAaqaO6cZZW",
      "include_colab_link": true
    },
    "kernelspec": {
      "name": "python3",
      "display_name": "Python 3"
    },
    "language_info": {
      "name": "python"
    }
  },
  "cells": [
    {
      "cell_type": "markdown",
      "metadata": {
        "id": "view-in-github",
        "colab_type": "text"
      },
      "source": [
        "<a href=\"https://colab.research.google.com/github/SyedaHafizaBibiAmna/python_assign_04/blob/main/02_lists.ipynb\" target=\"_parent\"><img src=\"https://colab.research.google.com/assets/colab-badge.svg\" alt=\"Open In Colab\"/></a>"
      ]
    },
    {
      "cell_type": "code",
      "execution_count": 5,
      "metadata": {
        "colab": {
          "base_uri": "https://localhost:8080/"
        },
        "id": "73u82OdEboHl",
        "outputId": "3c21e6d4-41e3-41ed-bbab-17f8204da2b1"
      },
      "outputs": [
        {
          "output_type": "stream",
          "name": "stdout",
          "text": [
            "01_add_many_number\n",
            "15\n"
          ]
        }
      ],
      "source": [
        "print(\"01_add_many_number\")\n",
        "\n",
        "def add_number(numbers)->int:\n",
        "  num:int= 0\n",
        "  for i in numbers:\n",
        "    num += i\n",
        "  return num\n",
        "\n",
        "def main():\n",
        "  numbers:list[int] = [1,2,3,4,5]\n",
        "  sum = add_number(numbers)\n",
        "  print(sum)\n",
        "\n",
        "if __name__ ==\"__main__\":\n",
        "  main()\n"
      ]
    },
    {
      "cell_type": "code",
      "source": [
        "print(\"02_double_list\")\n",
        "\n",
        "def main():\n",
        "  numbers:list[int]= [1,2,3,4,5]\n",
        "  for i in range(len(numbers)):\n",
        "    index = numbers[i]\n",
        "    numbers[i] = index* 2\n",
        "  print(numbers)\n",
        "\n",
        "if __name__ == \"__main__\":\n",
        "  main()\n",
        "\n"
      ],
      "metadata": {
        "colab": {
          "base_uri": "https://localhost:8080/"
        },
        "id": "U4N9J8Jcdv-Y",
        "outputId": "d8ca8d0b-9a63-46d7-ee6a-528c3868ed5e"
      },
      "execution_count": 6,
      "outputs": [
        {
          "output_type": "stream",
          "name": "stdout",
          "text": [
            "02_double_list\n",
            "[2, 4, 6, 8, 10]\n"
          ]
        }
      ]
    },
    {
      "cell_type": "code",
      "source": [
        "print(\"04_flowing_with_data_structures\")\n",
        "\n",
        "def add_three_copies(lst,data):\n",
        "  for i in range(3):\n",
        "   lst.append(data)\n",
        "\n",
        "\n",
        "def main():\n",
        "  message = input(\"Enter a Message to copy. \")\n",
        "  lst =[]\n",
        "  print(\"Before list: \" ,lst)\n",
        "  add_three_copies(lst,message)\n",
        "  print(\"After list:\" ,lst)\n",
        "\n",
        "if __name__ == \"__main__\":\n",
        "  main()"
      ],
      "metadata": {
        "colab": {
          "base_uri": "https://localhost:8080/"
        },
        "id": "tPmQQqIeelHz",
        "outputId": "4987a637-6e3e-4dba-ad81-30d2e598196a"
      },
      "execution_count": 11,
      "outputs": [
        {
          "output_type": "stream",
          "name": "stdout",
          "text": [
            "04_flowing_with_data_structures\n",
            "Enter a Message to copy. hate you\n",
            "Before list:  []\n",
            "After list: ['hate you', 'hate you', 'hate you']\n"
          ]
        }
      ]
    },
    {
      "cell_type": "code",
      "source": [
        "print(\"05_get_first_element\")\n",
        "\n",
        "def get_first_element(lst):\n",
        "  print(lst[0])\n",
        "\n",
        "\n",
        "def get_lst():\n",
        "  lst=[]\n",
        "  elem:str = input(\"Enter an Element to add in the list. \")\n",
        "  while elem !=\"\":\n",
        "    lst.append(elem)\n",
        "    elem = input(\"Enter an Element to add in the list. \")\n",
        "  return lst\n",
        "\n",
        "def main():\n",
        "  lst = get_lst()\n",
        "  get_first_element(lst)\n",
        "\n",
        "if __name__ == \"__main__\":\n",
        "  main()\n"
      ],
      "metadata": {
        "colab": {
          "base_uri": "https://localhost:8080/"
        },
        "id": "A3PeUzdTiZ0i",
        "outputId": "f48be056-abdb-4f36-e3ab-084d7fd7bd86"
      },
      "execution_count": 13,
      "outputs": [
        {
          "output_type": "stream",
          "name": "stdout",
          "text": [
            "05_get_first_element\n",
            "Enter an Element to add in the list. a\n",
            "Enter an Element to add in the list. s\n",
            "Enter an Element to add in the list. d\n",
            "Enter an Element to add in the list. \n",
            "a\n"
          ]
        }
      ]
    },
    {
      "cell_type": "code",
      "source": [
        "print(\"06_get_last_element\")\n",
        "\n",
        "def get_last_element(lst):\n",
        "  print(lst[-1])\n",
        "\n",
        "def get_lst():\n",
        "  lst=[]\n",
        "  elem:str = input(\"Enter an Element to add in the list. \")\n",
        "  while elem !=\"\":\n",
        "    lst.append(elem)\n",
        "    elem = input(\"Enter an Element to add in the list. \")\n",
        "  return lst\n",
        "\n",
        "\n",
        "def main():\n",
        "  lst = get_lst()\n",
        "  get_last_element(lst)\n",
        "\n",
        "if __name__ == \"__main__\":\n",
        "  main()\n",
        ""
      ],
      "metadata": {
        "colab": {
          "base_uri": "https://localhost:8080/"
        },
        "id": "oMEBuLpVmI6W",
        "outputId": "57b10877-7c01-4498-e775-a7bde8f50688"
      },
      "execution_count": 14,
      "outputs": [
        {
          "output_type": "stream",
          "name": "stdout",
          "text": [
            "06_get_last_element\n",
            "Enter an Element to add in the list. q\n",
            "Enter an Element to add in the list. d\n",
            "Enter an Element to add in the list. f\n",
            "Enter an Element to add in the list. \n",
            "f\n"
          ]
        }
      ]
    },
    {
      "cell_type": "code",
      "source": [
        "print(\"07_get_list\")\n",
        "\n",
        "def main():\n",
        "    lst = []  # Initialize the list first\n",
        "    val = input(\"Enter a value to add in the list. \")\n",
        "    while val:\n",
        "        lst.append(val)\n",
        "        val = input(\"Enter a value to add in the list. \")\n",
        "    print(\"Here is the:\", lst)\n",
        "\n",
        "if __name__ == \"__main__\":\n",
        "    main()\n",
        "\n",
        "if __name__ == \"__main__\":\n",
        "  main()"
      ],
      "metadata": {
        "colab": {
          "base_uri": "https://localhost:8080/"
        },
        "id": "v8rnb3cvm2DS",
        "outputId": "64da9c63-af43-46a8-cd5b-509a5553d12c"
      },
      "execution_count": 20,
      "outputs": [
        {
          "output_type": "stream",
          "name": "stdout",
          "text": [
            "07_get_list\n",
            "Enter a value to add in the list. df\n",
            "Enter a value to add in the list. sds\n",
            "Enter a value to add in the list. \n",
            "Here is the: ['df', 'sds']\n",
            "Enter a value to add in the list. amne\n",
            "Enter a value to add in the list. amyab\n",
            "Enter a value to add in the list. \n",
            "Here is the: ['amne', 'amyab']\n"
          ]
        }
      ]
    },
    {
      "cell_type": "code",
      "source": [
        "print(\"08_shorten\")\n",
        "\n",
        "MAX_LENGHT:int= 3\n",
        "\n",
        "def shorten(lst):\n",
        "  while len(lst) >= MAX_LENGHT:\n",
        "   last_elem = lst.pop()\n",
        "   print(last_elem)\n",
        "\n",
        "def get_lst():\n",
        "  lst=[]\n",
        "  elem = input(\"User please Enter your Element. \")\n",
        "  while elem != \"\":\n",
        "      lst.append(elem)\n",
        "      elem = input(\"User please Enter your Element. \")\n",
        "  return lst\n",
        "\n",
        "def main():\n",
        "  lst = get_lst()\n",
        "  shorten(lst)\n",
        "\n",
        "if __name__ == \"__main__\":\n",
        "  main()"
      ],
      "metadata": {
        "colab": {
          "base_uri": "https://localhost:8080/"
        },
        "id": "XoAGC_1BpZ37",
        "outputId": "646fcc08-9d5d-42dd-e660-397c2e647efc"
      },
      "execution_count": 30,
      "outputs": [
        {
          "output_type": "stream",
          "name": "stdout",
          "text": [
            "08_shorten\n",
            "User please Enter your Element. z\n",
            "User please Enter your Element. x\n",
            "User please Enter your Element. d\n",
            "User please Enter your Element. c\n",
            "User please Enter your Element. v\n",
            "User please Enter your Element. \n",
            "v\n",
            "c\n",
            "d\n"
          ]
        }
      ]
    }
  ]
}