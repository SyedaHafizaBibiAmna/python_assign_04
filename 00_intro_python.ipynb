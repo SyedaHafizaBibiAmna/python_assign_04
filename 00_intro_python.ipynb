{
  "nbformat": 4,
  "nbformat_minor": 0,
  "metadata": {
    "colab": {
      "provenance": [],
      "authorship_tag": "ABX9TyNKHCfHOFFJGrnpX+Bd7Ax7",
      "include_colab_link": true
    },
    "kernelspec": {
      "name": "python3",
      "display_name": "Python 3"
    },
    "language_info": {
      "name": "python"
    }
  },
  "cells": [
    {
      "cell_type": "markdown",
      "metadata": {
        "id": "view-in-github",
        "colab_type": "text"
      },
      "source": [
        "<a href=\"https://colab.research.google.com/github/SyedaHafizaBibiAmna/python_assign_04/blob/main/00_intro_python.ipynb\" target=\"_parent\"><img src=\"https://colab.research.google.com/assets/colab-badge.svg\" alt=\"Open In Colab\"/></a>"
      ]
    },
    {
      "cell_type": "code",
      "source": [
        "print(\"01_add_two_numbers\")\n",
        "\n",
        "def add():\n",
        "  print(\"This applicati0on for add two numbers\")\n",
        "  first_num= int(input(\"Enter your first number \"))\n",
        "  second_num= int(input(\"Enter your second number \"))\n",
        "  total=int(first_num + second_num)\n",
        "  print(f'The total sum of {first_num} and {second_num} is {total}')\n",
        "\n",
        "if __name__ == \"__main__\":\n",
        "  add()"
      ],
      "metadata": {
        "colab": {
          "base_uri": "https://localhost:8080/"
        },
        "id": "skUtxNXDDsVa",
        "outputId": "a85220de-aaa8-414d-c58d-324f6bf254c6"
      },
      "execution_count": 2,
      "outputs": [
        {
          "output_type": "stream",
          "name": "stdout",
          "text": [
            "01_add_two_numbers\n",
            "This applicati0on for add two numbers\n",
            "Enter your first number 5\n",
            "Enter your second number 8\n",
            "The total sum of 5 and 8 is 13\n"
          ]
        }
      ]
    },
    {
      "cell_type": "code",
      "source": [
        "print(\"02_agreement_bot\")\n",
        "\n",
        "def bot():\n",
        "  animal = str(input(\"What is your favorite animal ?\"))\n",
        "  print(f'My favorite is also {animal}!')\n",
        "\n",
        "if __name__ == \"__main__\":\n",
        "  bot()"
      ],
      "metadata": {
        "colab": {
          "base_uri": "https://localhost:8080/"
        },
        "id": "fdaxnl8JJMmh",
        "outputId": "56ba32ec-69fe-4033-be00-994319015b21"
      },
      "execution_count": 3,
      "outputs": [
        {
          "output_type": "stream",
          "name": "stdout",
          "text": [
            "02_agreement_bot\n",
            "What is your favorite animalLion\n",
            "My favorite is also Lion!\n"
          ]
        }
      ]
    },
    {
      "cell_type": "code",
      "source": [
        "print(\"03_fahrenheit_to_celsius\")\n",
        "\n",
        "def temp():\n",
        "  print(\"This code convert's temperature from Fahrenheite to Celsius \")\n",
        "  fah_degree = float(input(\"Enter Fahrenheit degree .\"))\n",
        "  cel_degree =(fah_degree - 32) * 5.0/9.0\n",
        "  print(f'Temperature {fah_degree}F = {cel_degree}C')\n",
        "\n",
        "if __name__ == \"__main__\":\n",
        "  temp()"
      ],
      "metadata": {
        "colab": {
          "base_uri": "https://localhost:8080/"
        },
        "id": "OTomnINVK50b",
        "outputId": "f4ba15b7-1033-4a2a-fa5d-0902370501e8"
      },
      "execution_count": 6,
      "outputs": [
        {
          "output_type": "stream",
          "name": "stdout",
          "text": [
            "03_fahrenheit_to_celsius\n",
            "This code convert's temperature from Fahrenheite to Celsius \n",
            "Enter Fahrenheit degree .100\n",
            "Temperature 100.0F = 37.77777777777778C\n"
          ]
        }
      ]
    },
    {
      "cell_type": "code",
      "source": [
        "print(\"04_how_old_are_they\")\n",
        "\n",
        "def age():\n",
        "  anthon:int = 21\n",
        "  beth:int = anthon + 6\n",
        "  chen:int= beth + 20\n",
        "  drew:int = chen + anthon\n",
        "  ethan:int = chen\n",
        "  print(\"Anthon is \" + str(anthon))\n",
        "  print(\"Beth is \" + str(beth))\n",
        "  print(\"Chen is \"+ str(chen))\n",
        "  print(\"Drew is \"+ str(drew))\n",
        "  print(\"Ethan is \"+ str(ethan))\n",
        "\n",
        "if __name__ == \"__main__\":\n",
        "  age()\n"
      ],
      "metadata": {
        "colab": {
          "base_uri": "https://localhost:8080/"
        },
        "id": "N5hD7Va5S-rF",
        "outputId": "586196ac-eb8d-4d9a-8418-f24964263e4c"
      },
      "execution_count": 2,
      "outputs": [
        {
          "output_type": "stream",
          "name": "stdout",
          "text": [
            "04_how_old_are_they\n",
            "Anthon is 21\n",
            "Beth is 27\n",
            "Chen is 47\n",
            "Drew is 68\n",
            "Ethan is 47\n"
          ]
        }
      ]
    },
    {
      "cell_type": "code",
      "source": [
        "# print(\"05_triangle_perimeter\")\n",
        "\n",
        "def triangle():\n",
        "  print(\"This code is about sum of triangle sides\")\n",
        "  side1:float=float(input(\"Enter your 1st side no of triangle = \"))\n",
        "  side2:float= float(input(\"Enter your 2nd side no of triangle = \"))\n",
        "  side3:float= float(input(\"Enter your 3rd side no of triangle = \"))\n",
        "  total:float = float(side1 + side2 + side3)\n",
        "  print(f'The perimeter of {side1} , {side2} and {side3} is = {total}')\n",
        "\n",
        "if __name__ == \"__main__\":\n",
        "  triangle()\n"
      ],
      "metadata": {
        "colab": {
          "base_uri": "https://localhost:8080/"
        },
        "id": "VWvlZ4VkJtDJ",
        "outputId": "2f9412c4-d3b4-4ebd-8164-648189c4e29e"
      },
      "execution_count": 18,
      "outputs": [
        {
          "output_type": "stream",
          "name": "stdout",
          "text": [
            "This code is about sum of triangle sides\n",
            "Enter your 1st side no of triangle = 2\n",
            "Enter your 2nd side no of triangle = 3\n",
            "Enter your 3rd side no of triangle = 3\n",
            "The perimeter of 2.0 , 3.0 and 3.0 is = 8.0\n"
          ]
        }
      ]
    },
    {
      "cell_type": "code",
      "source": [
        "print(\"06_square_number\")\n",
        "def square():\n",
        "  print(\"This code is about square of given number\")\n",
        "  num1:int=int(input(\"Enter any number and I will give you a square value = \"))\n",
        "  print(f'The square of {num1} is {num1 ** 2}')\n",
        "\n",
        "if __name__ == \"__main__\":\n",
        "  square()\n"
      ],
      "metadata": {
        "colab": {
          "base_uri": "https://localhost:8080/"
        },
        "id": "soXH7kYVMPI-",
        "outputId": "508e5f29-15ce-4b65-d8e7-4ff4ad48356c"
      },
      "execution_count": 19,
      "outputs": [
        {
          "output_type": "stream",
          "name": "stdout",
          "text": [
            "06_square_number\n",
            "This code is about square of given number\n",
            "Enter any number and I will give you a square value = 5\n",
            "The square of 5 is 25\n"
          ]
        }
      ]
    }
  ]
}