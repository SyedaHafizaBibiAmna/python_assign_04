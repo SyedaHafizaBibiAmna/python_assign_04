{
  "nbformat": 4,
  "nbformat_minor": 0,
  "metadata": {
    "colab": {
      "provenance": [],
      "authorship_tag": "ABX9TyMZvD6eOSJdwOq5lHdI+ce+",
      "include_colab_link": true
    },
    "kernelspec": {
      "name": "python3",
      "display_name": "Python 3"
    },
    "language_info": {
      "name": "python"
    }
  },
  "cells": [
    {
      "cell_type": "markdown",
      "metadata": {
        "id": "view-in-github",
        "colab_type": "text"
      },
      "source": [
        "<a href=\"https://colab.research.google.com/github/SyedaHafizaBibiAmna/python_assign_04/blob/main/01_expressions.ipynb\" target=\"_parent\"><img src=\"https://colab.research.google.com/assets/colab-badge.svg\" alt=\"Open In Colab\"/></a>"
      ]
    },
    {
      "cell_type": "code",
      "execution_count": 6,
      "metadata": {
        "colab": {
          "base_uri": "https://localhost:8080/"
        },
        "id": "kf6UMUf3QvXj",
        "outputId": "545bea97-27fa-4359-ba5f-d260277d251e"
      },
      "outputs": [
        {
          "output_type": "stream",
          "name": "stdout",
          "text": [
            "01_dicesimulator\n",
            "Dice1 in main() start as :10\n",
            "Total of two Dices: 4\n",
            "Total of two Dices: 5\n",
            "Total of two Dices: 12\n",
            "Dice1 in main() is 10\n"
          ]
        }
      ],
      "source": [
        "import random\n",
        "print(\"01_dicesimulator\")\n",
        "\n",
        "def dice():\n",
        "  dice1:int=random.randint(1,6)\n",
        "  dice2:int=random.randint(1,6)\n",
        "  total:int = dice1 + dice2\n",
        "  print(f'Total of two Dices: {total}')\n",
        "\n",
        "\n",
        "def main():\n",
        "  dice1:int= 10\n",
        "  print(\"Dice1 in main() start as :\"+ str(dice1))\n",
        "  dice()\n",
        "  dice()\n",
        "  dice()\n",
        "  print(\"Dice1 in main() is \" + str(dice1))\n",
        "\n",
        "if __name__ == \"__main__\":\n",
        "  main()\n",
        "\n",
        "\n"
      ]
    },
    {
      "cell_type": "code",
      "source": [
        "print(\"02_e=mc2\")\n",
        "\n",
        "def energy():\n",
        "  c:float= 299792458\n",
        "  m:float = float(input(\"Enter the mass of solid : \"))\n",
        "  print(\"e = m*c^2\")\n",
        "  print(\"Mass = \" + str(m) + \"kg\")\n",
        "  print(\"c = \" + str(c) + \"m/s\")\n",
        "  print(\"e = \" + str(m*c**2) + \"joules\")\n",
        "\n",
        "if __name__ == \"__main__\":\n",
        "  energy()"
      ],
      "metadata": {
        "colab": {
          "base_uri": "https://localhost:8080/"
        },
        "id": "45ddzfYUU0LZ",
        "outputId": "d59f2861-b027-4c3e-f1a1-9f5d62b7ca2a"
      },
      "execution_count": 10,
      "outputs": [
        {
          "output_type": "stream",
          "name": "stdout",
          "text": [
            "02_e=mc2\n",
            "Enter the mass of solid : 55\n",
            "e = m*c^2\n",
            "Mass = 55.0kg\n",
            "c = 299792458m/s\n",
            "e = 4.943153483052497e+18joules\n"
          ]
        }
      ]
    },
    {
      "cell_type": "code",
      "source": [
        "print(\"03_feet_to_inches\")\n",
        "\n",
        "inch:int = 12\n",
        "\n",
        "def foot():\n",
        "  feet:int = int(input(\"Enter feet and I will convert into inches\"))\n",
        "  print(f'There are {inch* feet} inches in {feet} feet.')\n",
        "\n",
        "if __name__ == \"__main__\":\n",
        "  foot()"
      ],
      "metadata": {
        "colab": {
          "base_uri": "https://localhost:8080/"
        },
        "id": "bhvI8DmYYjFE",
        "outputId": "9cb96c89-fb83-4079-c3ab-a781aab8c085"
      },
      "execution_count": 11,
      "outputs": [
        {
          "output_type": "stream",
          "name": "stdout",
          "text": [
            "03_feet_to_inches\n",
            "Enter feet and I will convert into inches13\n",
            "There are 156 inches in 13 feet.\n"
          ]
        }
      ]
    },
    {
      "cell_type": "code",
      "source": [
        "import math\n",
        "print(\"04_pythagorean_theorem\")\n",
        "\n",
        "\n",
        "def triangle():\n",
        "  ab:float= float(input(\"Enter the Lenght of the side ab \"))\n",
        "  ac:float= float(input(\"Enter the Lenght of the side ac \"))\n",
        "  bc:float= math.sqrt(ab**2 + ac**2)\n",
        "  print(f'The Lenght of bc is (the hypotenuse is : {bc})')\n",
        "\n",
        "if __name__ == \"__main__\":\n",
        "  triangle()\n"
      ],
      "metadata": {
        "colab": {
          "base_uri": "https://localhost:8080/"
        },
        "id": "fzxsAAW9aHkt",
        "outputId": "6bd91c57-d268-4f8c-dab1-61ab8143aed1"
      },
      "execution_count": 15,
      "outputs": [
        {
          "output_type": "stream",
          "name": "stdout",
          "text": [
            "04_pythagorean_theorem\n",
            "Enter the Lenght of the side ab2\n",
            "Enter the Lenght of the side ac2\n",
            "The Lenght of bc is (the hypotenuse is : 2.8284271247461903)\n"
          ]
        }
      ]
    },
    {
      "cell_type": "code",
      "source": [
        "print(\"05_remainder_division\")\n",
        "\n",
        "def reminder():\n",
        "  num1:int = int(input(\"Enter an integer to be divided: \"))\n",
        "  num2:int = int(input(\"Enter an integer to divide by: \"))\n",
        "  quotient:int= num1 // num2\n",
        "  remainder:int = num1 % num2\n",
        "  print(f'The result of this division is ' + str(quotient)+' with a remainder of ' + str(remainder))\n",
        "\n",
        "if __name__ == \"__main__\":\n",
        "  reminder()"
      ],
      "metadata": {
        "colab": {
          "base_uri": "https://localhost:8080/"
        },
        "id": "tR73b4Qsc7qd",
        "outputId": "f5e95cc0-129c-4489-d675-3914dfaed1a5"
      },
      "execution_count": 17,
      "outputs": [
        {
          "output_type": "stream",
          "name": "stdout",
          "text": [
            "05_remainder_division\n",
            "Enter an integer to be divided: 3\n",
            "Enter an integer to divide by: 3\n",
            "The result of this division is1 with a remainder of 0\n"
          ]
        }
      ]
    },
    {
      "cell_type": "code",
      "source": [
        "import random\n",
        "print(\"06_rolldice\")\n",
        "\n",
        "def dice():\n",
        "  dice1:int = random.randint(1,6)\n",
        "  dice2:int = random.randint(1,6)\n",
        "  total:int= int(dice1 + dice2)\n",
        "  print(\"1st Dice is :\" + str(dice1))\n",
        "  print(\"2nd Dice is :\" + str(dice2))\n",
        "  print(\"Total is :\" + str(total))\n",
        "\n",
        "if __name__ == \"__main__\":\n",
        "  dice()\n",
        ""
      ],
      "metadata": {
        "colab": {
          "base_uri": "https://localhost:8080/"
        },
        "id": "LvboeXYYhcyt",
        "outputId": "31cbc0b6-c87c-41d4-ab6d-de102f56639f"
      },
      "execution_count": 20,
      "outputs": [
        {
          "output_type": "stream",
          "name": "stdout",
          "text": [
            "06_rolldice\n",
            "1st Dice is :5\n",
            "2nd Dice is :6\n",
            "Total is :11\n"
          ]
        }
      ]
    },
    {
      "cell_type": "code",
      "source": [
        "print(\"06_seconds_in_year\")\n",
        "\n",
        "days__in_a_year:int = 365\n",
        "hours__in_a_day:int = 24\n",
        "minutes__in_an_hour:int = 60\n",
        "seconds__in_a_minute:int = 60\n",
        "\n",
        "def sec():\n",
        "  print(f'There are {days__in_a_year * hours__in_a_day * minutes__in_an_hour * seconds__in_a_minute} seconds in a year')\n",
        "\n",
        "if __name__ == \"__main__\":\n",
        "  sec()\n"
      ],
      "metadata": {
        "colab": {
          "base_uri": "https://localhost:8080/"
        },
        "id": "BoX9IwJmiYQj",
        "outputId": "bca6471a-42b4-4f89-b30e-3a87f9da1c1f"
      },
      "execution_count": 21,
      "outputs": [
        {
          "output_type": "stream",
          "name": "stdout",
          "text": [
            "06_seconds_in_year\n",
            "There are 31536000 seconds in a year\n"
          ]
        }
      ]
    },
    {
      "cell_type": "code",
      "source": [
        "print(\"07_tiny_mad_lib\")\n",
        "\n",
        "def mad_lib():\n",
        "  noun:str = str(input(\"Enter a noun: \"))\n",
        "  verb:str = str(input(\"Enter a verb: \"))\n",
        "  adjective:str = str(input(\"Enter an adjective: \"))\n",
        "  adverb:str = str(input(\"Enter an adverb: \"))\n",
        "  print(f'Do you {verb} your {adjective} {noun} {adverb}? That\\'s hilarious!')\n",
        "\n",
        "if __name__ == \"__main__\":\n",
        "  mad_lib()"
      ],
      "metadata": {
        "colab": {
          "base_uri": "https://localhost:8080/"
        },
        "id": "rSSD9Q8BjMto",
        "outputId": "0343b820-c371-4d9d-c2e6-cf30b1449dbd"
      },
      "execution_count": 22,
      "outputs": [
        {
          "output_type": "stream",
          "name": "stdout",
          "text": [
            "07_tiny_mad_lib\n",
            "Enter a noun: Amna\n",
            "Enter a verb: name\n",
            "Enter an adjective: beatuful\n",
            "Enter an adverb: very pretty\n",
            "Do you name your beatuful Amna very pretty? That's hilarious!\n"
          ]
        }
      ]
    }
  ]
}